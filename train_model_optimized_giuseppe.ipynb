{
 "cells": [
  {
   "cell_type": "code",
   "execution_count": 1,
   "id": "a9ec3747-31c9-451d-b06b-fe4e589ed725",
   "metadata": {},
   "outputs": [],
   "source": [
    "import os"
   ]
  },
  {
   "cell_type": "code",
   "execution_count": 2,
   "id": "f6e30cc2-2e02-447e-a79e-189d71bf188e",
   "metadata": {},
   "outputs": [],
   "source": [
    "# Remove TF warnings (this can be dangerous)\n",
    "os.environ[\"TF_XLA_FLAGS\"] = \"--tf_xla_enable_xla_devices\"\n",
    "os.environ[\"TF_CPP_MIN_LOG_LEVEL\"] = \"3\""
   ]
  },
  {
   "cell_type": "code",
   "execution_count": 3,
   "id": "23456d02-c5e1-4f81-b8f3-c8c5367dc0d1",
   "metadata": {},
   "outputs": [],
   "source": [
    "# See: https://gist.github.com/zrruziev/b93e1292bf2ee39284f834ec7397ee9f\n",
    "# sudo echo 0 | sudo tee -a /sys/bus/pci/devices/0000\\:01\\:00.0/numa_node"
   ]
  },
  {
   "cell_type": "code",
   "execution_count": 4,
   "id": "24773cdc-4bbe-48c3-9910-8b39c38bfc7a",
   "metadata": {},
   "outputs": [],
   "source": [
    "import tensorflow as tf\n",
    "\n",
    "from tensorflow.keras import datasets, layers, models\n",
    "from tensorflow.keras.optimizers import Adam\n",
    "from tensorflow.keras.models import load_model\n",
    "import keras\n",
    "from keras.models import Sequential, Model\n",
    "from keras.layers import *\n",
    "from keras.utils import Sequence\n",
    "from keras.layers import Conv2D, MaxPooling2D\n",
    "from qkeras import *\n",
    "\n",
    "from keras.utils import Sequence\n",
    "from keras.callbacks import CSVLogger\n",
    "from keras.callbacks import EarlyStopping\n",
    "\n",
    "from qkeras import *\n",
    "from qkeras.utils import _add_supported_quantized_objects\n",
    "\n",
    "import matplotlib.pyplot as plt\n",
    "\n",
    "\n",
    "import json\n",
    "import random\n",
    "import psutil\n",
    "\n",
    "pi = 3.14159265359\n",
    "\n",
    "maxval=1e9\n",
    "minval=1e-9"
   ]
  },
  {
   "cell_type": "code",
   "execution_count": 5,
   "id": "3da258a7-b1d2-4afe-aa30-2ddb31150ae3",
   "metadata": {},
   "outputs": [
    {
     "name": "stdout",
     "output_type": "stream",
     "text": [
      "Num GPUs Available:  1\n"
     ]
    }
   ],
   "source": [
    "# You can disable the GPU, if a GPU is present\n",
    "#os.environ['CUDA_VISIBLE_DEVICES'] = '-1'\n",
    "print(\"Num GPUs Available: \", len(tf.config.list_physical_devices('GPU')))"
   ]
  },
  {
   "cell_type": "code",
   "execution_count": 6,
   "id": "1ac065e8-fcf2-44a0-8dee-e1e44e605137",
   "metadata": {},
   "outputs": [],
   "source": [
    "from OptimizedDataGenerator import *\n",
    "from loss import *"
   ]
  },
  {
   "cell_type": "code",
   "execution_count": 7,
   "id": "deb31997-6ba4-4af7-8397-9b28e315e642",
   "metadata": {},
   "outputs": [],
   "source": [
    "# Choose model type\n",
    "model_type = \"xysum\" \n",
    "\n",
    "# True = use all of the time slices, False = use a subset of the timeslices\n",
    "timeslices_all_enable = False\n",
    "\n",
    "# True = load tfrecords, False = (re-)generated tfrecords\n",
    "load_from_tfrecords_enabled = True\n",
    "\n",
    "# True = load model from file, False = train it from scratch\n",
    "load_model_from_hdf5_enabled = False"
   ]
  },
  {
   "cell_type": "code",
   "execution_count": 8,
   "id": "9199b73a-4d33-48aa-8d2c-a7f5b5376496",
   "metadata": {},
   "outputs": [],
   "source": [
    "if model_type == \"xysum\":\n",
    "    from xysum_model import *\n",
    "else:\n",
    "    assert False, \"Selected model cannot be found\""
   ]
  },
  {
   "cell_type": "code",
   "execution_count": 9,
   "id": "ca7d7663-05e8-4790-84dd-11c25e41f118",
   "metadata": {},
   "outputs": [
    {
     "name": "stdout",
     "output_type": "stream",
     "text": [
      "Use config info from file: /home/giuseppe/research/projects/smartpixels/data/dataset_2s, /home/giuseppe/research/projects/smartpixels/lindsey-smart-pixels-ml/tfrecords, /home/giuseppe/research/projects/smartpixels/lindsey-smart-pixels-ml/npy, /home/giuseppe/research/projects/smartpixels/lindsey-smart-pixels-ml/weights\n"
     ]
    }
   ],
   "source": [
    "# You can define a JSON configuration file locally\n",
    "# {\n",
    "#    \"data_base_dir\": \"/data/dajiang/smartPixels\",\n",
    "#    \"tfrecords_base_dir\" : \"/data/dajiang/smartPixels\",\n",
    "#    \"model_base_dir\": \"/home/dajiang/smart-pixels-ml/weights\"\n",
    "# }\n",
    "config_file_path = 'config.json'\n",
    "\n",
    "# If the file does not exist, the notebook uses default values for those entries\n",
    "data_base_dir = \"/data/dajiang/smartPixels/dataset_2s\"\n",
    "tfrecords_base_dir = \"/data/dajiang/smartPixels/tfrecords\"\n",
    "npy_base_dir = \"/data/dajiang/smartPixels/npy\"\n",
    "model_base_dir = \"/home/dajiang/smart-pixels-ml/weights\"\n",
    "\n",
    "if os.path.exists(config_file_path):\n",
    "    with open(config_file_path, 'r') as file:\n",
    "        data = json.load(file)\n",
    "        data_base_dir = data.get('data_base_dir')\n",
    "        tfrecords_base_dir = data.get('tfrecords_base_dir')\n",
    "        npy_base_dir = data.get('npy_base_dir')\n",
    "        model_base_dir = data.get('model_base_dir')\n",
    "    print(f\"Use config info from file: {data_base_dir}, {tfrecords_base_dir}, {npy_base_dir}, {model_base_dir}\")\n",
    "else:\n",
    "    print(f\"File does not exist. Use default config info: {data_base_dir}, {tfrecords_base_dir}, {npy_base_dir}, {model_base_dir}\")"
   ]
  },
  {
   "cell_type": "code",
   "execution_count": 10,
   "id": "9e1a0184-55a3-4294-b0df-b3067d9bb72f",
   "metadata": {},
   "outputs": [
    {
     "name": "stderr",
     "output_type": "stream",
     "text": [
      "WARNING:root:Quantization is True in data generator. This may affect model performance.\n",
      "WARNING:root:Quantization is True in data generator. This may affect model performance.\n"
     ]
    },
    {
     "name": "stdout",
     "output_type": "stream",
     "text": [
      "CPU times: user 169 ms, sys: 8.58 ms, total: 178 ms\n",
      "Wall time: 156 ms\n"
     ]
    }
   ],
   "source": [
    "%%time\n",
    "\n",
    "#batch_size = 5000\n",
    "#val_batch_size = 5000\n",
    "batch_size = 1000\n",
    "val_batch_size = 1000\n",
    "train_file_size = 50\n",
    "val_file_size = 10\n",
    "\n",
    "# See: https://docs.google.com/document/d/1ZoqVyJOOAXhzt2egMWh3OoNJ6lWq5lNR6sjcYON4Vlo/edit?tab=t.0#heading=h.k6tyal7z5t5l\n",
    "dataset_name = \"dataset_2s\"\n",
    "# 50x12.5x100 micron pixel sensor => 13x21 pixel sensor array\n",
    "sensor_geometry_name = \"50x12P5x100\"\n",
    "# Either 20 or 2 timeslices\n",
    "timeslices_name = \"timeslices20\" if timeslices_all_enable else \"timeslices2\"\n",
    "timeslices_range = -1 if timeslices_all_enable else [0, 19]\n",
    "timeslices_val = 20 if timeslices_all_enable else 2\n",
    "#\n",
    "batch_size_name = f\"bs{batch_size}\"\n",
    "\n",
    "# Input: parquets\n",
    "data_dir = f\"{data_base_dir}/dataset_2s_50x12P5_parquets/unflipped/recon3D/\"\n",
    "labels_dir = f\"{data_base_dir}/dataset_2s_50x12P5_parquets/unflipped/labels/\"\n",
    "\n",
    "# Output: tfrecords\n",
    "tfrecords_dir_train = f\"{tfrecords_base_dir}/tfrecords_{dataset_name}_{sensor_geometry_name}_{timeslices_name}_{batch_size_name}_train\"\n",
    "tfrecords_dir_val = f\"{tfrecords_base_dir}/tfrecords_{dataset_name}_{sensor_geometry_name}_{timeslices_name}_{batch_size_name}_val\"\n",
    "\n",
    "training_generator = OptimizedDataGenerator(\n",
    "    data_directory_path = data_dir,\n",
    "    labels_directory_path = labels_dir,\n",
    "    is_directory_recursive = False,\n",
    "    file_type = \"parquet\",\n",
    "    data_format = \"3D\",\n",
    "    batch_size = batch_size,\n",
    "    file_count = train_file_size,\n",
    "    to_standardize= True,\n",
    "    include_y_local= False,\n",
    "    labels_list = ['x-midplane','y-midplane','cotAlpha','cotBeta'],\n",
    "    scaling_list = [75.0, 18.75, 10.0, 1.22],\n",
    "    input_shape = (timeslices_val,13,21),\n",
    "    transpose = (0,2,3,1),\n",
    "    files_from_end = True,\n",
    "    shuffle = True,\n",
    "\n",
    "    load_from_tfrecords_dir = tfrecords_dir_train if load_from_tfrecords_enabled else None,\n",
    "    tfrecords_dir = tfrecords_dir_train,\n",
    "    use_time_stamps = timeslices_range,\n",
    "    max_workers = 1, # Don't make this too large (will use up all RAM)\n",
    "    seed = 10,\n",
    "    quantize = True # Quantization ON\n",
    ")\n",
    "\n",
    "validation_generator = OptimizedDataGenerator(\n",
    "    data_directory_path = f\"{data_base_dir}/dataset_2s_50x12P5_parquets/unflipped/recon3D/\",\n",
    "    labels_directory_path = f\"{data_base_dir}/dataset_2s_50x12P5_parquets/unflipped/labels/\",\n",
    "    is_directory_recursive = False,\n",
    "    file_type = \"parquet\",\n",
    "    data_format = \"3D\",\n",
    "    batch_size = val_batch_size,\n",
    "    file_count = val_file_size,\n",
    "    to_standardize= True,\n",
    "    include_y_local= False,\n",
    "    labels_list = ['x-midplane','y-midplane','cotAlpha','cotBeta'],\n",
    "    scaling_list = [75.0, 18.75, 10.0, 1.22],\n",
    "    input_shape = (timeslices_val,13,21),\n",
    "    transpose = (0,2,3,1),\n",
    "    files_from_end = True,\n",
    "    shuffle = True,\n",
    "\n",
    "    load_from_tfrecords_dir = tfrecords_dir_val if load_from_tfrecords_enabled else None,\n",
    "    tfrecords_dir = tfrecords_dir_val,\n",
    "    use_time_stamps = timeslices_range,\n",
    "    max_workers = 1, # Don't make this too large (will use up all RAM)\n",
    "    seed = 10,\n",
    "    quantize = True # Quantization ON\n",
    ")"
   ]
  },
  {
   "cell_type": "code",
   "execution_count": 11,
   "id": "dd324b5a-9a82-4b57-9de0-94ba5e76715d",
   "metadata": {},
   "outputs": [
    {
     "name": "stdout",
     "output_type": "stream",
     "text": [
      "/home/giuseppe/research/projects/smartpixels/lindsey-smart-pixels-ml/npy/y_timeslices2_val.npy\n",
      "(489705, 13, 21, 2)\n",
      "(489705, 4)\n"
     ]
    }
   ],
   "source": [
    "# Create a numpy array that contains the recon3D and labels information\n",
    "# X is the 20-timeslices or 2-timeslices recon3D data\n",
    "# y is the labels data ['x-midplane','y-midplane','cotAlpha','cotBeta']\n",
    "X_val_all = []\n",
    "y_val_all = []\n",
    "\n",
    "num_batches = validation_generator.__len__() # The total number of batches for the validation dataset\n",
    "#val_num_batches = 1\n",
    "\n",
    "for i_batch in range(num_batches): # Loop over all batches\n",
    "    X_val, y_val = validation_generator.__getitem__(i_batch)\n",
    "    X_val = X_val.numpy()\n",
    "    y_val = y_val.numpy()\n",
    "    X_val_all.append(X_val)\n",
    "    y_val_all.append(y_val)\n",
    "\n",
    "X_val_all = np.array(np.concatenate(X_val_all))\n",
    "y_val_all = np.array(np.concatenate(y_val_all))\n",
    "\n",
    "os.makedirs(npy_base_dir, exist_ok=True)\n",
    "np.save(f\"{npy_base_dir}/X_{timeslices_name}_val.npy\", X_val_all)\n",
    "np.save(f\"{npy_base_dir}/y_{timeslices_name}_val.npy\", y_val_all)\n",
    "\n",
    "print(f\"{npy_base_dir}/y_{timeslices_name}_val.npy\")\n",
    "print(X_val_all.shape)\n",
    "print(y_val_all.shape)"
   ]
  },
  {
   "cell_type": "code",
   "execution_count": 12,
   "id": "b9fd3960-c7f1-4d6c-b7e0-0c4c833797d2",
   "metadata": {},
   "outputs": [
    {
     "name": "stdout",
     "output_type": "stream",
     "text": [
      "13\n",
      "21\n",
      "2\n",
      "Model: \"model\"\n",
      "__________________________________________________________________________________________________\n",
      " Layer (type)                Output Shape                 Param #   Connected to                  \n",
      "==================================================================================================\n",
      " input_1 (InputLayer)        [(None, 13, 21, 2)]          0         []                            \n",
      "                                                                                                  \n",
      " average_pooling2d (Average  (None, 13, 1, 2)             0         ['input_1[0][0]']             \n",
      " Pooling2D)                                                                                       \n",
      "                                                                                                  \n",
      " average_pooling2d_1 (Avera  (None, 1, 21, 2)             0         ['input_1[0][0]']             \n",
      " gePooling2D)                                                                                     \n",
      "                                                                                                  \n",
      " reshape (Reshape)           (None, 13, 2)                0         ['average_pooling2d[0][0]']   \n",
      "                                                                                                  \n",
      " reshape_1 (Reshape)         (None, 21, 2)                0         ['average_pooling2d_1[0][0]'] \n",
      "                                                                                                  \n",
      " q_conv1d (QConv1D)          (None, 11, 5)                35        ['reshape[0][0]']             \n",
      "                                                                                                  \n",
      " q_conv1d_1 (QConv1D)        (None, 19, 5)                35        ['reshape_1[0][0]']           \n",
      "                                                                                                  \n",
      " concatenate (Concatenate)   (None, 30, 5)                0         ['q_conv1d[0][0]',            \n",
      "                                                                     'q_conv1d_1[0][0]']          \n",
      "                                                                                                  \n",
      " q_activation (QActivation)  (None, 30, 5)                0         ['concatenate[0][0]']         \n",
      "                                                                                                  \n",
      " flatten (Flatten)           (None, 150)                  0         ['q_activation[0][0]']        \n",
      "                                                                                                  \n",
      " q_dense (QDense)            (None, 16)                   2416      ['flatten[0][0]']             \n",
      "                                                                                                  \n",
      " q_activation_1 (QActivatio  (None, 16)                   0         ['q_dense[0][0]']             \n",
      " n)                                                                                               \n",
      "                                                                                                  \n",
      " q_dense_1 (QDense)          (None, 16)                   272       ['q_activation_1[0][0]']      \n",
      "                                                                                                  \n",
      " q_activation_2 (QActivatio  (None, 16)                   0         ['q_dense_1[0][0]']           \n",
      " n)                                                                                               \n",
      "                                                                                                  \n",
      " q_dense_2 (QDense)          (None, 14)                   238       ['q_activation_2[0][0]']      \n",
      "                                                                                                  \n",
      "==================================================================================================\n",
      "Total params: 2996 (11.70 KB)\n",
      "Trainable params: 2996 (11.70 KB)\n",
      "Non-trainable params: 0 (0.00 Byte)\n",
      "__________________________________________________________________________________________________\n"
     ]
    }
   ],
   "source": [
    "# compiles model\n",
    "model = CreateModel((13,21,timeslices_val))\n",
    "model.summary()"
   ]
  },
  {
   "cell_type": "code",
   "execution_count": 13,
   "id": "870b8741-98fd-4e1e-bc29-7b9fcbb9b640",
   "metadata": {},
   "outputs": [],
   "source": [
    "model.compile(optimizer=Adam(learning_rate=0.001), loss=custom_loss)"
   ]
  },
  {
   "cell_type": "code",
   "execution_count": 14,
   "id": "0d3ecb0d-5db2-4610-bd58-e55d06f049a6",
   "metadata": {},
   "outputs": [
    {
     "name": "stdout",
     "output_type": "stream",
     "text": [
      "Model name: dataset_2s_50x12P5x100_timeslices2_bs1000_xysum\n",
      "Epoch 1/5\n",
      "2040/2040 [==============================] - 66s 31ms/step - loss: 303.5524 - val_loss: -773.1925\n",
      "Epoch 2/5\n",
      "2040/2040 [==============================] - 65s 32ms/step - loss: -1311.9485 - val_loss: -1863.4266\n",
      "Epoch 3/5\n",
      "2040/2040 [==============================] - 64s 31ms/step - loss: -2119.7891 - val_loss: -2413.3533\n",
      "Epoch 4/5\n",
      "2040/2040 [==============================] - 64s 31ms/step - loss: -2487.9082 - val_loss: -2661.7817\n",
      "Epoch 5/5\n",
      "2040/2040 [==============================] - 64s 31ms/step - loss: -2640.4580 - val_loss: -2750.3220\n",
      "CPU times: user 5min 37s, sys: 1min 12s, total: 6min 50s\n",
      "Wall time: 5min 23s\n"
     ]
    },
    {
     "name": "stderr",
     "output_type": "stream",
     "text": [
      "/home/giuseppe/ccs_venv/lib/python3.10/site-packages/keras/src/engine/training.py:3079: UserWarning: You are saving your model as an HDF5 file via `model.save()`. This file format is considered legacy. We recommend using instead the native Keras format, e.g. `model.save('my_model.keras')`.\n",
      "  saving_api.save_model(\n",
      "/home/giuseppe/ccs_venv/lib/python3.10/site-packages/keras/src/constraints.py:365: UserWarning: The `keras.constraints.serialize()` API should only be used for objects of type `keras.constraints.Constraint`. Found an instance of type <class 'qkeras.quantizers.quantized_bits'>, which may lead to improper serialization.\n",
      "  warnings.warn(\n"
     ]
    }
   ],
   "source": [
    "%%time\n",
    "model_name = f\"{dataset_name}_{sensor_geometry_name}_{timeslices_name}_{batch_size_name}\" + ((\"_\" if model_type != \"\" else \"\") + model_type)\n",
    "\n",
    "best_model_hdf5 = f\"{model_base_dir}/weights_7pitches/best_model_{model_name}.hdf5\"\n",
    "best_model_keras = f\"{model_base_dir}/weights_7pitches/best_model_{model_name}.keras\"\n",
    "best_model_weights_hdf5 = f\"{model_base_dir}/weights_7pitches/best_model_{model_name}_weights.hdf5\"\n",
    "best_model_weights_keras = f\"{model_base_dir}/weights_7pitches/best_model_{model_name}_weights.keras\"\n",
    "best_model_architecture_json = f\"{model_base_dir}/weights_7pitches/best_model_{model_name}_architecture.json\"\n",
    "\n",
    "print(f'Model name: {model_name}')\n",
    "\n",
    "if not load_model_from_hdf5_enabled:\n",
    "    # training\n",
    "    es = EarlyStopping(\n",
    "        patience=50,\n",
    "        restore_best_weights=True\n",
    "    )\n",
    "\n",
    "    checkpoint_base_dir = f\"{model_base_dir}/weights_7pitches/{dataset_name}_{sensor_geometry_name}_{timeslices_name}_{batch_size_name}\"  + (((\"_\" if model_type != \"\" else \"\") + model_type)) + \"-checkpoints\"\n",
    "\n",
    "    os.makedirs(checkpoint_base_dir, exist_ok=True)\n",
    "    checkpoint_filepath = checkpoint_base_dir + '/weights.{epoch:02d}-t{loss:.2f}-v{val_loss:.2f}.hdf5'\n",
    "    mcp = tf.keras.callbacks.ModelCheckpoint(\n",
    "        filepath=checkpoint_filepath,\n",
    "        save_weights_only=True,\n",
    "        monitor='val_loss',\n",
    "        save_best_only=False,\n",
    "    )\n",
    "\n",
    "    class ScalePrintingCallback(keras.callbacks.Callback):    \n",
    "        def on_epoch_end(self, epoch, logs=None):\n",
    "            scale_layer = self.model.layers[-1]\n",
    "            print(\n",
    "                f\"scaling layer ({epoch}):\", \n",
    "                scale_layer.scale, \n",
    "                tf.math.softplus(scale_layer.scale)\n",
    "            )\n",
    "\n",
    "    print_scale = ScalePrintingCallback()\n",
    "    \n",
    "    history = model.fit(x=training_generator,\n",
    "                        validation_data=validation_generator,\n",
    "                        callbacks=[mcp],\n",
    "                        epochs=5,\n",
    "                        shuffle=False, # shuffling now occurs within the data-loader\n",
    "                        verbose=1)\n",
    "\n",
    "    # Revert to best model\n",
    "    files = os.listdir(checkpoint_base_dir)\n",
    "    vlosses = [float(f.split(\"-v\")[1].split(\".hdf5\")[0]) for f in files]\n",
    "    bestfile = files[np.argmin(vlosses)]\n",
    "    model.load_weights(f\"{checkpoint_base_dir}/{bestfile}\")\n",
    "\n",
    "    # Save (best) model information to file\n",
    "    model.save(best_model_hdf5)\n",
    "    model.save(best_model_keras)\n",
    "    model.save_weights(best_model_weights_hdf5)\n",
    "    model.save_weights(best_model_weights_keras)\n",
    "    model_json = model.to_json()\n",
    "    with open(best_model_architecture_json, \"w\") as json_file:\n",
    "        json_file.write(model_json)\n",
    "\n",
    "else:\n",
    "    co = {\"custom_loss\": custom_loss}\n",
    "    _add_supported_quantized_objects(co)\n",
    "    # This overrides the previously compiled model\n",
    "    # TODO: load just weights\n",
    "    model = load_model(best_model_hdf5, custom_objects=co)\n",
    "    model.summary()"
   ]
  },
  {
   "cell_type": "code",
   "execution_count": 15,
   "id": "cd172d9c-ac6d-497a-8391-dc507cb3cc5d",
   "metadata": {},
   "outputs": [
    {
     "data": {
      "image/png": "[encoded data removed]",
      "text/plain": [
       "<Figure size 640x480 with 1 Axes>"
      ]
     },
     "metadata": {},
     "output_type": "display_data"
    }
   ],
   "source": [
    "training_validation_loss_png = f\"{model_base_dir}/weights_7pitches/training_validation_loss_{model_name}.png\"\n",
    "if load_model_from_hdf5_enabled:\n",
    "    from PIL import Image\n",
    "    import matplotlib.pyplot as plt\n",
    "    img = Image.open(training_validation_loss_png)\n",
    "    plt.figure(figsize=(12, 8))\n",
    "    plt.imshow(img)\n",
    "    plt.axis('off')\n",
    "    plt.tight_layout()\n",
    "    plt.show()\n",
    "else: \n",
    "    plt.plot(history.history['loss'], label='Training Loss')\n",
    "    plt.plot(history.history['val_loss'], label='Validation Loss')\n",
    "    plt.xlabel('Epoch')\n",
    "    plt.ylabel('Loss')\n",
    "    plt.title(model_name)\n",
    "    plt.legend()\n",
    "    plt.savefig(training_validation_loss_png, bbox_inches='tight', pad_inches=0.5)\n",
    "    plt.show()"
   ]
  },
  {
   "cell_type": "code",
   "execution_count": null,
   "id": "17336580-88ed-48ca-ad44-540c0ce474df",
   "metadata": {},
   "outputs": [],
   "source": []
  }
 ],
 "metadata": {
  "kernelspec": {
   "display_name": "Python 3 (ipykernel)",
   "language": "python",
   "name": "python3"
  },
  "language_info": {
   "codemirror_mode": {
    "name": "ipython",
    "version": 3
   },
   "file_extension": ".py",
   "mimetype": "text/x-python",
   "name": "python",
   "nbconvert_exporter": "python",
   "pygments_lexer": "ipython3",
   "version": "3.10.15"
  }
 },
 "nbformat": 4,
 "nbformat_minor": 5
}
