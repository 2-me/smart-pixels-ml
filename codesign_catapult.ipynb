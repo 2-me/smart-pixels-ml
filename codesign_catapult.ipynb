{
 "cells": [
  {
   "cell_type": "markdown",
   "id": "b7688608-72b8-43fc-a188-103a761c20d5",
   "metadata": {},
   "source": [
    "# Catapult codesign\n",
    "\n",
    "Model: `(13,21,2)` or `(13,21,20)`"
   ]
  },
  {
   "cell_type": "markdown",
   "id": "a0e61818-25b4-498d-a07f-21d6acf05fe5",
   "metadata": {},
   "source": [
    "## List trained models"
   ]
  },
  {
   "cell_type": "code",
   "execution_count": 1,
   "id": "0f9a09e2-50d3-4562-ba54-b4f65ac4465e",
   "metadata": {},
   "outputs": [
    {
     "name": "stdout",
     "output_type": "stream",
     "text": [
      "timeslices20_bs1000_xysum\n",
      "timeslices2_bs1000_xysum\n",
      "timeslices2_bs5000_xysum\n"
     ]
    }
   ],
   "source": [
    "!for f in `ls weights/weights_7pitches/*json`; do basename $f | grep -oP '(?<=best_model_dataset_2s_50x12P5x100_).*?(?=_architecture.json)'; done"
   ]
  },
  {
   "cell_type": "markdown",
   "id": "8e68ae6a-98cf-4708-9c18-855d682cad2d",
   "metadata": {},
   "source": [
    "## Setup"
   ]
  },
  {
   "cell_type": "markdown",
   "id": "19dc512c-ef20-4a9e-8e1d-ab67b085ded9",
   "metadata": {},
   "source": [
    "Please follow [these instructions](https://github.com/GiuseppeDiGuglielmo/catapult_venvs) to setup an environment for Catapult AI NN (_hls4ml_).\n",
    "\n",
    "You can either use the _hls4ml_ release with Catapult (2024.2_1) or point to a Siemens or official GitHub repository. [Here we provide some details.](https://github.com/GiuseppeDiGuglielmo/catapult_compare_releases)"
   ]
  },
  {
   "cell_type": "code",
   "execution_count": 2,
   "id": "2454ded4-e743-4fc5-a3fa-d983e3532cbf",
   "metadata": {},
   "outputs": [
    {
     "name": "stdout",
     "output_type": "stream",
     "text": [
      "/extras2/tools/Siemens/catapult/2024.2_2/Mgc_home\n"
     ]
    }
   ],
   "source": [
    "# Path to the Catapult installation directory\n",
    "!echo $MGC_HOME"
   ]
  },
  {
   "cell_type": "code",
   "execution_count": 3,
   "id": "2a988cad-92ca-48d1-b41e-42f66680e23f",
   "metadata": {},
   "outputs": [
    {
     "name": "stdout",
     "output_type": "stream",
     "text": [
      "/extras2/tools/Siemens/catapult/2024.2_2/Mgc_home/shared/pkgs/ccs_hls4ml/hls4ml\n"
     ]
    }
   ],
   "source": [
    "# Path to the hls4ml installation directory\n",
    "# It can be point to either the Catapult installation directory or a copy of Siemens/Official GitHub repo \n",
    "!echo $PYTHONPATH"
   ]
  },
  {
   "cell_type": "markdown",
   "id": "2fdb885d-f40f-4e45-acfd-7f484ad884ac",
   "metadata": {},
   "source": [
    "## Import libraries"
   ]
  },
  {
   "cell_type": "markdown",
   "id": "311ac2ea-c38d-417f-8b97-50757b7047b3",
   "metadata": {},
   "source": [
    "Disable some console warnings on the ASIC-group servers"
   ]
  },
  {
   "cell_type": "code",
   "execution_count": 4,
   "id": "c5905953-fd47-4806-b2cc-0f720ad3ce55",
   "metadata": {},
   "outputs": [],
   "source": [
    "import os"
   ]
  },
  {
   "cell_type": "code",
   "execution_count": 5,
   "id": "5841dc73-a8e4-4e48-93e8-dcf32064d815",
   "metadata": {},
   "outputs": [],
   "source": [
    "os.environ[\"TF_XLA_FLAGS\"] = \"--tf_xla_enable_xla_devices\"\n",
    "os.environ[\"TF_CPP_MIN_LOG_LEVEL\"] = \"3\""
   ]
  },
  {
   "cell_type": "code",
   "execution_count": 6,
   "id": "2c2a0054-f404-4b47-b14f-263808e49c44",
   "metadata": {},
   "outputs": [
    {
     "ename": "SyntaxError",
     "evalue": "invalid syntax (xysum_model.py, line 48)",
     "output_type": "error",
     "traceback": [
      "Traceback \u001b[0;36m(most recent call last)\u001b[0m:\n",
      "\u001b[0m  File \u001b[1;32m~/ccs_venv/lib/python3.10/site-packages/IPython/core/interactiveshell.py:3508\u001b[0m in \u001b[1;35mrun_code\u001b[0m\n    exec(code_obj, self.user_global_ns, self.user_ns)\u001b[0m\n",
      "\u001b[0;36m  Cell \u001b[0;32mIn[6], line 8\u001b[0;36m\n\u001b[0;31m    from xysum_model import *\u001b[0;36m\n",
      "\u001b[0;36m  File \u001b[0;32m/extras2/home/gdg/research/projects/smartpixels/lindsey-smart-pixels-ml/xysum_model.py:48\u001b[0;36m\u001b[0m\n\u001b[0;31m    data_format=None,/prinm\u001b[0m\n\u001b[0m                     ^\u001b[0m\n\u001b[0;31mSyntaxError\u001b[0m\u001b[0;31m:\u001b[0m invalid syntax\n"
     ]
    }
   ],
   "source": [
    "import hls4ml\n",
    "\n",
    "import numpy as np\n",
    "import math\n",
    "import yaml\n",
    "import json\n",
    "\n",
    "from xysum_model import *\n",
    "\n",
    "\n",
    "from matplotlib import colors\n",
    "\n",
    "from loss import *\n",
    "from qkeras import quantized_bits\n",
    "\n",
    "import matplotlib.pyplot as plt"
   ]
  },
  {
   "cell_type": "markdown",
   "id": "6a4d69b3-4061-4670-aabd-d17d9078316a",
   "metadata": {},
   "source": [
    "## Set parameters"
   ]
  },
  {
   "cell_type": "code",
   "execution_count": null,
   "id": "ca3efcab-64b7-4020-ba46-e4f00bbb028f",
   "metadata": {},
   "outputs": [],
   "source": [
    "# Choose model type\n",
    "model_type = \"xysum\" \n",
    "\n",
    "# True = use all of the time slices, False = use a subset of the timeslices\n",
    "timeslices_all_enable = False\n",
    "\n",
    "#batch_size = 1000\n",
    "batch_size = 5000"
   ]
  },
  {
   "cell_type": "code",
   "execution_count": null,
   "id": "67c378b0-0001-4345-a25a-803796d5f042",
   "metadata": {},
   "outputs": [],
   "source": [
    "# See: https://docs.google.com/document/d/1ZoqVyJOOAXhzt2egMWh3OoNJ6lWq5lNR6sjcYON4Vlo/edit?tab=t.0#heading=h.k6tyal7z5t5l\n",
    "dataset_name = \"dataset_2s\"\n",
    "# 50x12.5x100 micron pixel sensor => 13x21 pixel sensor array\n",
    "sensor_geometry_name = \"50x12P5x100\"\n",
    "# Either 20 or 2 timeslices\n",
    "timeslices_name = \"timeslices20\" if timeslices_all_enable else \"timeslices2\"\n",
    "timeslices_range = -1 if timeslices_all_enable else [0, 19]\n",
    "timeslices_val = 20 if timeslices_all_enable else 2\n",
    "#\n",
    "batch_size_name = f\"bs{batch_size}\""
   ]
  },
  {
   "cell_type": "code",
   "execution_count": null,
   "id": "8cc491d5-2eb1-4715-8d60-9bc17dc119d5",
   "metadata": {},
   "outputs": [],
   "source": [
    "# You can define a JSON configuration file locally\n",
    "# {\n",
    "#    \"data_base_dir\": \"/data/dajiang/smartPixels\",\n",
    "#    \"tfrecords_base_dir\" : \"/data/dajiang/smartPixels\",\n",
    "#    \"model_base_dir\": \"/home/dajiang/smart-pixels-ml/weights\"\n",
    "# }\n",
    "config_file_path = 'config.json'\n",
    "\n",
    "# If the file does not exist, the notebook uses default values for those entries\n",
    "data_base_dir = \"/data/dajiang/smartPixels/dataset_2s\"\n",
    "tfrecords_base_dir = \"/data/dajiang/smartPixels/tfrecords\"\n",
    "npy_base_dir = \"/data/dajiang/smartPixels/npy\"\n",
    "model_base_dir = \"/home/dajiang/smart-pixels-ml/weights\"\n",
    "\n",
    "if os.path.exists(config_file_path):\n",
    "    with open(config_file_path, 'r') as file:\n",
    "        data = json.load(file)\n",
    "        data_base_dir = data.get('data_base_dir')\n",
    "        tfrecords_base_dir = data.get('tfrecords_base_dir')\n",
    "        npy_base_dir = data.get('npy_base_dir')\n",
    "        model_base_dir = data.get('model_base_dir')\n",
    "    print(f\"Use config info from file: {data_base_dir}, {tfrecords_base_dir}, {npy_base_dir}, {model_base_dir}\")\n",
    "else:\n",
    "    print(f\"File does not exist. Use default config info: {data_base_dir}, {tfrecords_base_dir}, {npy_base_dir}, {model_base_dir}\")"
   ]
  },
  {
   "cell_type": "code",
   "execution_count": null,
   "id": "3ea983a5-6483-4ad9-a396-36dcbdd66e0b",
   "metadata": {},
   "outputs": [],
   "source": [
    "#model_name = f\"{dataset_name}_{sensor_geometry_name}_{timeslices_name}_{batch_size_name}\" + (\"_bnorm\" if batch_norm_enabled else \"\")\n",
    "model_name = f\"{dataset_name}_{sensor_geometry_name}_{timeslices_name}_{batch_size_name}\" + ((\"_\" if model_type != \"\" else \"\") + model_type)\n",
    "\n",
    "best_model_weights_hdf5 = f\"{model_base_dir}/weights_7pitches/best_model_{model_name}_weights.hdf5\"\n",
    "best_model_architecture_json = f\"{model_base_dir}/weights_7pitches/best_model_{model_name}_architecture.json\"\n",
    "best_model_hdf5 = f\"{model_base_dir}/weights_7pitches/best_model_{model_name}.hdf5\""
   ]
  },
  {
   "cell_type": "code",
   "execution_count": null,
   "id": "b421015e-d6cd-47f8-9e5d-0d52f6a9906b",
   "metadata": {},
   "outputs": [],
   "source": [
    "print(model_name)"
   ]
  },
  {
   "cell_type": "raw",
   "id": "a46d4164-bce6-48e4-ada2-c15bb60226a9",
   "metadata": {},
   "source": [
    "# TODO: Set the right precision\n",
    "FXD_W = 4 # Fixed-point precision, word bit width\n",
    "FXD_I = 1 # Fixed-point precision, integer-part bit width"
   ]
  },
  {
   "cell_type": "markdown",
   "id": "d8e37667-3b1e-40e1-b118-7e2505cd799e",
   "metadata": {},
   "source": [
    "## Load data"
   ]
  },
  {
   "cell_type": "code",
   "execution_count": null,
   "id": "2f17bc33-9155-4585-8b10-fd25fb1a7c28",
   "metadata": {},
   "outputs": [],
   "source": [
    "X = np.load(f'{npy_base_dir}/X_{timeslices_name}_val.npy')[:batch_size,]\n",
    "y = np.load(f'{npy_base_dir}/y_{timeslices_name}_val.npy')[:batch_size,]"
   ]
  },
  {
   "cell_type": "code",
   "execution_count": null,
   "id": "f19a748f-039a-48e2-ad5f-65506b8dd1dc",
   "metadata": {},
   "outputs": [],
   "source": [
    "print(X.shape)\n",
    "print(y.shape)"
   ]
  },
  {
   "cell_type": "markdown",
   "id": "287d12b5-5403-4a6d-89c5-01fd9ad3f1ed",
   "metadata": {},
   "source": [
    "### Visualize data"
   ]
  },
  {
   "cell_type": "markdown",
   "id": "b73f69e3-6162-41ce-983c-ed5765e1078d",
   "metadata": {},
   "source": [
    "Data visualization can also be moved to a different notebook, which may also already exists."
   ]
  },
  {
   "cell_type": "code",
   "execution_count": null,
   "id": "9a4b6a17-f2b3-497f-9c44-dcc9ac5dbee2",
   "metadata": {},
   "outputs": [],
   "source": [
    "def plot_event(X, timeslices_range, index):\n",
    "    if index < 0 or index >= X.shape[0]:\n",
    "        print(\"Index out of range. Please provide a valid index.\")\n",
    "        return\n",
    "\n",
    "    timeslices_range = np.arange(20) if timeslices_range == -1 else timeslices_range\n",
    "    \n",
    "    slices_num = X[index].shape[2]\n",
    "    \n",
    "    fig, axes = plt.subplots(1, slices_num, figsize=(slices_num*4, 16))\n",
    "\n",
    "    divnorm = colors.TwoSlopeNorm(vmin=-1., vcenter=0., vmax=8.5)\n",
    "\n",
    "    imgs = []\n",
    "    for i_slice in range(slices_num):\n",
    "        img = axes[i_slice].imshow(X[index, :, :, i_slice], interpolation='nearest', origin='lower', cmap='bwr', norm=divnorm)\n",
    "        axes[i_slice].set_title(f'Event: {index} - Slice {timeslices_range[i_slice]}')\n",
    "        axes[i_slice].set_xticks(range(0, X.shape[2], max(1, X.shape[2] // 5)))\n",
    "        axes[i_slice].set_yticks(range(0, X.shape[1], max(1, X.shape[1] // 5)))\n",
    "\n",
    "    plt.show()\n",
    "\n",
    "# Plot some images\n",
    "for i in range(3):\n",
    "    plot_event(X, timeslices_range, i)"
   ]
  },
  {
   "cell_type": "code",
   "execution_count": null,
   "id": "5e6af424-1ad7-4948-8e85-6fdb756aabde",
   "metadata": {},
   "outputs": [],
   "source": [
    "from matplotlib.animation import FuncAnimation\n",
    "from IPython.display import HTML\n",
    "\n",
    "def animate_event(X, timeslices_range, index):\n",
    "    if index < 0 or index >= X.shape[0]:\n",
    "        print(\"Index out of range. Please provide a valid index.\")\n",
    "        return\n",
    "\n",
    "    timeslices_range = np.arange(20) if timeslices_range == -1 else timeslices_range\n",
    "    \n",
    "    slices_num = X[index].shape[2]\n",
    "    fig, ax = plt.subplots(figsize=(8, 4))\n",
    "\n",
    "    divnorm = colors.TwoSlopeNorm(vmin=-1., vcenter=0., vmax=8.5)\n",
    "    img = ax.imshow(X[index, :, :, 0], interpolation='nearest', origin='lower', cmap='bwr', norm=divnorm)\n",
    "\n",
    "    ax.set_title(f'Event: {index} - Slice 0')\n",
    "    ax.set_xticks(range(0, X.shape[2], max(1, X.shape[2] // 5)))\n",
    "    ax.set_yticks(range(0, X.shape[1], max(1, X.shape[1] // 5)))\n",
    "\n",
    "    def update(frame):\n",
    "        img.set_data(X[index, :, :, frame])\n",
    "        ax.set_title(f'Event: {index} - Slice {timeslices_range[frame]}')\n",
    "        return img, ax\n",
    "\n",
    "    ani = FuncAnimation(fig, update, frames=slices_num, blit=False, interval=500)\n",
    "\n",
    "    plt.close(fig)\n",
    "    return ani\n",
    "\n",
    "ani = animate_event(X, timeslices_range, 2)\n",
    "#ani.save(\"animation.mp4\", fps=2)\n",
    "#ani.save(f\"{dataset_name}_{sensor_geometry_name}_{timeslices_name}_{batch_size_name}_animation.gif\", writer='imagemagick')\n",
    "\n",
    "HTML(ani.to_jshtml())"
   ]
  },
  {
   "cell_type": "markdown",
   "id": "b14d7d76-716e-4351-9984-a9122932abcc",
   "metadata": {},
   "source": [
    "### Quantize data"
   ]
  },
  {
   "cell_type": "markdown",
   "id": "cfee1b9c-e36a-44fe-8c95-18f2ad49a3bd",
   "metadata": {},
   "source": [
    "<b style=\"background-color: yellow; color: red\">ATTENTION: Input quantization is disabled. The _hls4ml_ implementation uses the default value: <i style=\"font-family: Courier;\">fixed<16,6></i></b>"
   ]
  },
  {
   "cell_type": "raw",
   "id": "54a89b26-4747-431c-b9a1-2e7e8b1bb0e3",
   "metadata": {},
   "source": [
    "quantized_X = quantized_bits(FXD_W, FXD_I-1, alpha=1)(X).numpy()"
   ]
  },
  {
   "cell_type": "markdown",
   "id": "52ba246f-3201-4577-b406-917a210853a9",
   "metadata": {},
   "source": [
    "## QKeras model"
   ]
  },
  {
   "cell_type": "markdown",
   "id": "c75c0956-4409-4b9b-aed1-e959090fbf01",
   "metadata": {},
   "source": [
    "### Load QKeras model"
   ]
  },
  {
   "cell_type": "code",
   "execution_count": null,
   "id": "f3069d57-0482-4352-8050-290d0c17a9b7",
   "metadata": {},
   "outputs": [],
   "source": [
    "# Load the whole model from HDF5 file\n",
    "from tensorflow.keras.models import load_model\n",
    "from qkeras.utils import _add_supported_quantized_objects\n",
    "\n",
    "co = {\"custom_loss\": custom_loss}\n",
    "_add_supported_quantized_objects(co)\n",
    "model = load_model(best_model_hdf5, custom_objects=co)\n",
    "model.summary(line_length=120, show_trainable=True)"
   ]
  },
  {
   "cell_type": "code",
   "execution_count": null,
   "id": "c5e4879e-d3d3-48eb-be49-23c29472f53d",
   "metadata": {},
   "outputs": [],
   "source": [
    "# TODO: This gives an error:\n",
    "# ValueError: Layer count mismatch when loading weights from file. Model expected 5 layers, found 9 saved layers.\n",
    "#\n",
    "# # Load model weights from HDF5 file, while recreate architecture from scripts\n",
    "# model = CreateModel((13,21,2), n_filters=5, pool_size=3)\n",
    "# model.load_weights(best_model_weights_hdf5)\n",
    "# model.summary(line_length=200)"
   ]
  },
  {
   "cell_type": "markdown",
   "id": "b526dfa2-cb84-430f-ace0-b4da8e610e51",
   "metadata": {},
   "source": [
    "### Slice QKeras model"
   ]
  },
  {
   "cell_type": "markdown",
   "id": "fd76894b-de70-4c07-8d44-16e1bc0f5d8e",
   "metadata": {},
   "source": [
    "<b style=\"background-color: yellow; color: red\">ATTENTION: You can select a subset of layers of the model (slice) to debug the HLS implementation.</b>"
   ]
  },
  {
   "cell_type": "code",
   "execution_count": null,
   "id": "b3f208c1-b491-4673-acc9-7af266835fba",
   "metadata": {},
   "outputs": [],
   "source": [
    "#sliced_model_enable = False\n",
    "sliced_model_enable = False\n",
    "slice_from_layer_num = 6\n",
    "slice_to_layer_num = 6\n",
    "slice_away_last_activation = True"
   ]
  },
  {
   "cell_type": "code",
   "execution_count": null,
   "id": "d0e69a1b-8ec0-4add-b22a-3fbd8539e34c",
   "metadata": {},
   "outputs": [],
   "source": [
    "# for l in model.layers:\n",
    "#     print(l, l.input)\n",
    "#     print(l, l.output)"
   ]
  },
  {
   "cell_type": "code",
   "execution_count": null,
   "id": "743aa20c-b395-4eae-88ec-14e41e0a141f",
   "metadata": {},
   "outputs": [],
   "source": [
    "if sliced_model_enable:\n",
    "    print(\"Layer count: {}/{}\".format(slice_to_layer_num, len(model.layers)-1))\n",
    "    assert(slice_to_layer_num < len(model.layers))\n",
    "    model_head = Model(inputs=model.input,\n",
    "                  outputs=model.layers[slice_to_layer_num-1].output)\n",
    "\n",
    "    model_head.summary(line_length=120, show_trainable=True)\n",
    "\n",
    "    from tensorflow.keras.utils import plot_model\n",
    "    plot_model(model_head, to_file=f\"{model_name}_model_head.png\", show_shapes=True, show_layer_names=True)\n",
    "\n",
    "\n",
    "if sliced_model_enable:\n",
    "\n",
    "    assert slice_from_layer_num < len(model.layers), f\"slice_from_layer_num ({slice_from_layer_num}) exceeds layer count ({len(model.layers)})\"\n",
    "    assert slice_to_layer_num < len(model.layers), f\"slice_to_layer_num ({slice_to_layer_num}) exceeds layer count ({len(model.layers)})\"\n",
    "    assert slice_from_layer_num <= slice_to_layer_num, \"slice_from_layer_num must be less than or equal to slice_to_layer_num\"\n",
    "\n",
    "    print(\"Layer count: {}/{}\".format(slice_to_layer_num, len(model.layers) - 1))\n",
    "\n",
    "    # Create new input tensor based on the shape of the selected layer\n",
    "    input_shape = model.layers[slice_from_layer_num].input_shape[1:]\n",
    "    new_input = tf.keras.layers.Input(shape=input_shape)\n",
    "\n",
    "    # Connect the new input to the desired layers\n",
    "    x = model.layers[slice_from_layer_num](new_input)\n",
    "    for i in range(slice_from_layer_num + 1, slice_to_layer_num + 1):\n",
    "        x = model.layers[i](x)\n",
    "\n",
    "    # Create a new sliced model\n",
    "    model = Model(inputs=new_input, outputs=x)\n",
    "    model.summary(line_length=120, show_trainable=True)\n",
    "\n",
    "    from tensorflow.keras.utils import plot_model\n",
    "    plot_model(model, to_file=f\"{model_name}_model.png\", show_shapes=True, show_layer_names=True)"
   ]
  },
  {
   "cell_type": "markdown",
   "id": "c6886474-7b5a-4604-8880-bbba4db689b7",
   "metadata": {},
   "source": [
    "### Run QKeras model"
   ]
  },
  {
   "cell_type": "code",
   "execution_count": null,
   "id": "f5884594-1caa-495a-816c-bb5921143725",
   "metadata": {},
   "outputs": [],
   "source": [
    "print(f'Input batch: {X.shape[0]}')\n",
    "print(f'Input shape: {X.shape}')"
   ]
  },
  {
   "cell_type": "markdown",
   "id": "b6c19f3b-4ec4-41b0-8a05-942e56fde9ef",
   "metadata": {},
   "source": [
    "#### Prediction"
   ]
  },
  {
   "cell_type": "code",
   "execution_count": null,
   "id": "f966e334-4d41-4f01-b0c7-71b7bc66aa2c",
   "metadata": {
    "scrolled": true
   },
   "outputs": [],
   "source": [
    "if sliced_model_enable:\n",
    "    y_head_qkeras = model_head.predict(np.ascontiguousarray(X))\n",
    "    y_qkeras = model.predict(y_head_qkeras)\n",
    "else:\n",
    "    y_qkeras = model.predict(np.ascontiguousarray(X))\n",
    "print(f'QKeras output batch: {y_qkeras.shape[0]}')\n",
    "print(f'QKeras output shape: {y_qkeras.shape}')"
   ]
  },
  {
   "cell_type": "markdown",
   "id": "73abc0f0-ccb9-4d18-95ab-2289032174db",
   "metadata": {},
   "source": [
    "#### Profiling"
   ]
  },
  {
   "cell_type": "code",
   "execution_count": null,
   "id": "3467ab2e-3355-4df2-82be-0ac8ffd09875",
   "metadata": {},
   "outputs": [],
   "source": [
    "trace_qkeras = hls4ml.model.profiling.get_ymodel_keras(model, X)\n",
    "#print(trace_qkeras['q_separable_conv2d'].shape)"
   ]
  },
  {
   "cell_type": "code",
   "execution_count": null,
   "id": "5cdf6d7f-ed7e-47e4-bc6c-85d25c379578",
   "metadata": {},
   "outputs": [],
   "source": [
    "for key in trace_qkeras.keys():\n",
    "    print(f'QKeras layer trace shape: {key} {trace_qkeras[key].shape}')"
   ]
  },
  {
   "cell_type": "markdown",
   "id": "13514e92",
   "metadata": {},
   "source": [
    "#### Save .dat files"
   ]
  },
  {
   "cell_type": "code",
   "execution_count": null,
   "id": "979ec5ae",
   "metadata": {},
   "outputs": [],
   "source": [
    "# Save input features and model predictions just the top 20\n",
    "np.savetxt(f\"{model_name}_tb_input_features.dat\", X.reshape(batch_size, -1), fmt=\"%f\")\n",
    "np.savetxt(f\"{model_name}_tb_output_predictions.dat\", y_qkeras.reshape(batch_size, -1), fmt=\"%f\")\n",
    "#np.savetxt(\"y_test_labels.dat\", y_test, fmt=\"%d\")"
   ]
  },
  {
   "cell_type": "code",
   "execution_count": null,
   "id": "270b0087-7aca-4ff9-bb4c-1c3c731a78ed",
   "metadata": {},
   "outputs": [],
   "source": [
    "!wc -l *tb_input_features.dat\n",
    "!wc -l *tb_output_predictions.dat"
   ]
  },
  {
   "cell_type": "markdown",
   "id": "9ba40be0-aa45-4e6f-a384-a56fce823ccf",
   "metadata": {
    "editable": true,
    "slideshow": {
     "slide_type": ""
    },
    "tags": []
   },
   "source": [
    "## hls4ml model"
   ]
  },
  {
   "cell_type": "markdown",
   "id": "5c8f3595-8462-4799-b8fb-cb97a8e15566",
   "metadata": {},
   "source": [
    "### Configure hls4ml model"
   ]
  },
  {
   "cell_type": "code",
   "execution_count": null,
   "id": "3ae09db8-5c2f-41aa-a968-6ceae11ce1fe",
   "metadata": {},
   "outputs": [],
   "source": [
    "project_name = \"SmtPxl\"\n",
    "\n",
    "strategy = \"Latency\"\n",
    "#strategy = \"Resource\"\n",
    "\n",
    "#io_type = \"io_stream\"\n",
    "io_type = \"io_parallel\"\n",
    "\n",
    "build_bup = False\n",
    "#build_bup = True\n",
    "\n",
    "#programmable_weights = False\n",
    "programmable_weights = True\n",
    "\n",
    "hls4ml_output_dir = f\"{project_name}_{io_type}_{strategy}{'_bup' if build_bup else ''}{'_pw' if programmable_weights else ''}{f'_slice{slice_from_layer_num}to{slice_to_layer_num}' if sliced_model_enable else ''}_hls4ml_prj\"\n",
    "\n",
    "print(hls4ml_output_dir)\n",
    "\n",
    "#asiclibs = \"saed32rvt_tt0p78v125c_beh\"\n",
    "asiclibs = \"tcbn28hpcplusbwp30p140ssg0p81v125c_ccs_dc\"\n",
    "asiclibspath ='/home/giuseppe/research/projects/smartpixels/tsmc28nm_lib'"
   ]
  },
  {
   "cell_type": "code",
   "execution_count": null,
   "id": "32a63a9c-d652-449c-950f-bb0655457a82",
   "metadata": {},
   "outputs": [],
   "source": [
    "!rm -rf $hls4ml_output_dir*"
   ]
  },
  {
   "cell_type": "code",
   "execution_count": null,
   "id": "b04679e0-4bef-47a7-9df2-29fe124a9cec",
   "metadata": {},
   "outputs": [],
   "source": [
    "config_hls4ml = hls4ml.utils.config.create_config(\n",
    "    backend = \"Catapult\",\n",
    "    project_name = project_name,\n",
    "    output_dir = hls4ml_output_dir,\n",
    "    tech = \"asic\",\n",
    "    asiclibs= asiclibs,\n",
    "    asiclibspath = asiclibspath,\n",
    "    asicfifo = \"hls4ml_lib.mgc_pipe_mem\",\n",
    "    clock_period = 25,\n",
    "    io_type = io_type,\n",
    "    csim = False, SCVerify = False, Synth = False, BuildBUP = build_bup\n",
    ")\n",
    "#print(config_hls4ml)\n",
    "#print(json.dumps(config_hls4ml, indent=4))"
   ]
  },
  {
   "cell_type": "code",
   "execution_count": null,
   "id": "3a619c30-6145-4352-805f-41ed07bb67b6",
   "metadata": {},
   "outputs": [],
   "source": [
    "config_hls4ml[\"HLSConfig\"] = hls4ml.utils.config_from_keras_model(\n",
    "    model,\n",
    "    granularity=\"name\",\n",
    "    default_precision=\"ac_fixed<16,6,true>\",\n",
    "    default_reuse_factor=1\n",
    ")\n",
    "\n",
    "config_hls4ml[\"HLSConfig\"][\"Model\"][\"Strategy\"] = strategy\n",
    "\n",
    "if programmable_weights:\n",
    "    # All the weights are exposed through BRAMs\n",
    "    config_hls4ml[\"HLSConfig\"][\"Model\"][\"BramFactor\"] = 0\n",
    "\n",
    "#config_hls4ml[\"HLSConfig\"]['LayerName']['q_separable_conv2d']['ReuseFactor'] = 10\n",
    "    \n",
    "#print(config_hls4ml)\n",
    "print(json.dumps(config_hls4ml, indent=4))"
   ]
  },
  {
   "cell_type": "markdown",
   "id": "e54d02e9-0add-48a3-a3bd-caa2c2befa7e",
   "metadata": {},
   "source": [
    "<b style=\"background-color: yellow; color: red\">ATTENTION: The model precision can be fine tuned here.</b>"
   ]
  },
  {
   "cell_type": "code",
   "execution_count": null,
   "id": "38691fd8-2864-45cc-8a72-d64681f365e7",
   "metadata": {},
   "outputs": [],
   "source": [
    "# NOTE: fine tune average-pooling-2d\n",
    "# TODO: Can this be fixed directly in the average-pooling-2d implementation?\n",
    "if not sliced_model_enable:\n",
    "    config_hls4ml[\"HLSConfig\"]['Model']['Precision']['default'] = 'fixed<18,6>'\n",
    "    config_hls4ml[\"HLSConfig\"]['LayerName']['input_pxls']['Precision']['result'] = 'fixed<4,1>'\n",
    "    config_hls4ml[\"HLSConfig\"]['LayerName']['avg_pooling_2d_proj_x']['Precision']['result'] = 'fixed<12,1>'\n",
    "    config_hls4ml[\"HLSConfig\"]['LayerName']['avg_pooling_2d_proj_y']['Precision']['result'] = 'fixed<12,1>'\n",
    "    config_hls4ml[\"HLSConfig\"]['LayerName']['dense_3']['Precision']['accum_t'] = 'fixed<12,2>'\n",
    "    config_hls4ml[\"HLSConfig\"]['LayerName']['dense_3']['Precision']['result'] = 'fixed<8,2>'\n",
    "    config_hls4ml[\"HLSConfig\"]['LayerName']['dense_3_linear']['Precision']['result'] = 'fixed<8,2>'"
   ]
  },
  {
   "cell_type": "code",
   "execution_count": null,
   "id": "b6907bfc-6064-4094-b092-a7e60e75b94a",
   "metadata": {},
   "outputs": [],
   "source": [
    "if sliced_model_enable:\n",
    "    model.save_weights(f\"{model_name}_debug.hdf5\")\n",
    "    model_json = model.to_json()\n",
    "    with open(f\"{model_name}_debug.json\", \"w\") as json_file:\n",
    "        json_file.write(model_json)"
   ]
  },
  {
   "cell_type": "code",
   "execution_count": null,
   "id": "f0c50825-2a5d-4371-a470-6e5f3f6d7240",
   "metadata": {},
   "outputs": [],
   "source": [
    "# Point to the model definition, weights/biase values and C++ testbench data files\n",
    "config_hls4ml[\"KerasH5\"] = best_model_weights_hdf5 if not sliced_model_enable else f\"{model_name}_debug.hdf5\"\n",
    "config_hls4ml[\"KerasJson\"] = best_model_architecture_json if not sliced_model_enable else f\"{model_name}_debug.json\"\n",
    "config_hls4ml[\"InputData\"] = f\"{model_name}_tb_input_features.dat\"\n",
    "config_hls4ml[\"OutputPredictions\"] = f\"{model_name}_tb_output_predictions.dat\"\n",
    "#print(config_hls4ml)\n",
    "#print(json.dumps(config_hls4ml, indent=4))"
   ]
  },
  {
   "cell_type": "code",
   "execution_count": null,
   "id": "6a81200e-f8b8-4eef-aa88-57d01dd6dfd1",
   "metadata": {},
   "outputs": [],
   "source": [
    "# TODO: is this necessary?\n",
    "with open(f\"{model_name}_myproject_config.yml\", \"w\") as yaml_file:\n",
    "    yaml.dump(config_hls4ml, yaml_file, explicit_start=False, default_flow_style=False)"
   ]
  },
  {
   "cell_type": "code",
   "execution_count": null,
   "id": "01cc01af-6ba3-4bd9-8706-e11a2e042fd1",
   "metadata": {},
   "outputs": [],
   "source": [
    "# Enable tracing for all of the layers\n",
    "for layer in config_hls4ml[\"HLSConfig\"][\"LayerName\"].keys():\n",
    "    print(\"Enable tracing for layer:\", layer)\n",
    "    config_hls4ml[\"HLSConfig\"][\"LayerName\"][layer][\"Trace\"] = True"
   ]
  },
  {
   "cell_type": "code",
   "execution_count": null,
   "id": "ed56d487-7dc4-4742-8808-c6f0a4cb3f5e",
   "metadata": {},
   "outputs": [],
   "source": [
    "# Convert QKeras model to Catapult HLS C++\n",
    "hls_model_hls4ml = hls4ml.converters.keras_to_hls(config_hls4ml)"
   ]
  },
  {
   "cell_type": "code",
   "execution_count": null,
   "id": "33c60a0b-dfaa-427a-8791-e8d56a526cc7",
   "metadata": {},
   "outputs": [],
   "source": [
    "hls4ml.utils.plot_model(hls_model_hls4ml, show_shapes=True, show_precision=True, to_file=f\"{model_name}_qkeras.png\")\n",
    "hls4ml.utils.plot_model(hls_model_hls4ml, show_shapes=True, show_precision=True, to_file=None)"
   ]
  },
  {
   "cell_type": "code",
   "execution_count": null,
   "id": "dd4767a7-e114-4ae2-91a0-ae1c3c82a3e5",
   "metadata": {},
   "outputs": [],
   "source": [
    "# Writing HLS project\n",
    "hls_model_hls4ml.compile()"
   ]
  },
  {
   "cell_type": "markdown",
   "id": "42c8015f-94b9-4cab-9c61-1b33a30b30b7",
   "metadata": {},
   "source": [
    "### Run hls4ml model"
   ]
  },
  {
   "cell_type": "markdown",
   "id": "bccb606c-62de-42a6-aced-ba7eef729253",
   "metadata": {},
   "source": [
    "#### Prediction"
   ]
  },
  {
   "cell_type": "code",
   "execution_count": null,
   "id": "5ecb6031-54a2-49b9-89d6-dde566a41ecb",
   "metadata": {},
   "outputs": [],
   "source": [
    "y_hls4ml = hls_model_hls4ml.predict(np.ascontiguousarray(X))"
   ]
  },
  {
   "cell_type": "code",
   "execution_count": null,
   "id": "7f2f9521-6f0e-4857-b7c0-29b2763dded6",
   "metadata": {},
   "outputs": [],
   "source": [
    "print(f'hls4ml output batch: {y_hls4ml.shape[0]}')\n",
    "print(f'hls4ml output shape: {y_hls4ml.shape}')"
   ]
  },
  {
   "cell_type": "markdown",
   "id": "9148f445-b977-4b16-b590-aadef11f6d9e",
   "metadata": {},
   "source": [
    "#### Profiling"
   ]
  },
  {
   "cell_type": "code",
   "execution_count": null,
   "id": "f74ce844-8477-4020-8c97-77688489a230",
   "metadata": {},
   "outputs": [],
   "source": [
    "# Run tracing on the test set for the hls4ml model (fixed-point precision) \n",
    "pred_hls4ml, trace_hls4ml = hls_model_hls4ml.trace(X)"
   ]
  },
  {
   "cell_type": "code",
   "execution_count": null,
   "id": "5f97e36b-f8ea-4d37-9f63-6278e1301b0a",
   "metadata": {},
   "outputs": [],
   "source": [
    "print(f'hls4ml output shape: {pred_hls4ml.shape}')\n",
    "# print(f\"hls4ml trace  shape: {trace_hls4ml['q_separable_conv2d_pointwise'].shape}\")"
   ]
  },
  {
   "cell_type": "code",
   "execution_count": null,
   "id": "29ab42bd-4750-4eca-bdc0-a61a9825f166",
   "metadata": {},
   "outputs": [],
   "source": [
    "# import numpy as np\n",
    "# import pandas as pd\n",
    "\n",
    "# X_df = pd.DataFrame(X.reshape(batch_size, -1))\n",
    "# y_qkeras_df = pd.DataFrame(y_qkeras.reshape(batch_size, -1))\n",
    "# y_hls4ml_df = pd.DataFrame(pred_hls4ml)\n",
    "\n",
    "# # Save as CSV\n",
    "# X_df.to_csv('X_data.csv', index=False, header=False)\n",
    "# y_qkeras_df.to_csv('y_qkeras_data.csv', index=False, header=False)\n",
    "# y_hls4ml_df.to_csv('y_hls4ml_data.csv', index=False, header=False)\n",
    "\n",
    "\n",
    "# np.savetxt(f\"{model_name}_tb_input_features.dat\", X.reshape(batch_size, -1), fmt=\"%f\")\n",
    "# np.savetxt(f\"{model_name}_tb_output_predictions.dat\", y_qkeras.reshape(batch_size, -1), fmt=\"%f\")"
   ]
  },
  {
   "cell_type": "markdown",
   "id": "20f678c0-6a6d-468f-b988-3f25c8bea203",
   "metadata": {},
   "source": [
    "## Compare QKeras and hls4ml"
   ]
  },
  {
   "cell_type": "raw",
   "id": "e00e061c-6072-4752-9b6a-309556ff085c",
   "metadata": {},
   "source": [
    "print(y_qkeras[0][0][0])\n",
    "print(y_hls4ml[0][:5])"
   ]
  },
  {
   "cell_type": "markdown",
   "id": "41f2a311-03f4-40db-9749-ad1992289a83",
   "metadata": {},
   "source": [
    "#### Trace visual inspection"
   ]
  },
  {
   "cell_type": "code",
   "execution_count": null,
   "id": "d5945f5b-3a82-4193-a1b6-4bcbd77e524a",
   "metadata": {},
   "outputs": [],
   "source": [
    "# Print the traces on console\n",
    "N_ELEMENTS = 8\n",
    "\n",
    "# Backup print options\n",
    "bkp_threshold = np.get_printoptions()[\"threshold\"]\n",
    "bkp_linewidth = np.get_printoptions()[\"linewidth\"]\n",
    "\n",
    "# Set print options\n",
    "np.set_printoptions(threshold=np.inf, linewidth=np.inf)\n",
    "\n",
    "# print(trace_hls4ml.keys())\n",
    "# print(trace_qkeras.keys())\n",
    "for key in trace_hls4ml.keys():\n",
    "    if key == \"q_separable_conv2d_depthwise\":\n",
    "        continue\n",
    "    print(\"-------\")\n",
    "    print('QKeras: ', key.replace(\"_pointwise\", \"\"), trace_qkeras[key.replace(\"_pointwise\", \"\")].flatten().shape)\n",
    "    print('hls4ml: ', key.replace(\"_pointwise\", \"\"), trace_hls4ml[key].flatten().shape)\n",
    "    print(\"[keras] \", key.replace(\"_pointwise\", \"\"), trace_qkeras[key.replace(\"_pointwise\", \"\")].flatten()[:N_ELEMENTS])\n",
    "    print(\"[hls4ml]\", key.replace(\"_pointwise\", \"\"), trace_hls4ml[key].flatten()[:N_ELEMENTS])\n",
    "    \n",
    "# Restore print options\n",
    "np.set_printoptions(threshold=bkp_threshold, linewidth=bkp_linewidth)"
   ]
  },
  {
   "cell_type": "raw",
   "id": "39278aef-bf18-4d7c-bc04-393b0c50f547",
   "metadata": {},
   "source": [
    "trace_qkeras['q_separable_conv2d'].shape"
   ]
  },
  {
   "cell_type": "markdown",
   "id": "79e268e2-ed27-4861-bbed-863cfd82855c",
   "metadata": {},
   "source": [
    "#### MSE per layer"
   ]
  },
  {
   "cell_type": "code",
   "execution_count": null,
   "id": "5d217387-b8ef-4bf0-998b-cbf5e1ca3a95",
   "metadata": {},
   "outputs": [],
   "source": [
    "def mse(actual, predicted):\n",
    "    return ((actual - predicted) ** 2).mean()\n",
    "\n",
    "# print(trace_hls4ml.keys())\n",
    "# print(trace_hls4ml['q_separable_conv2d_pointwise'].shape)\n",
    "# print(trace_qkeras['q_separable_conv2d'].shape)\n",
    " \n",
    "for key in trace_hls4ml.keys():\n",
    "    if key == \"q_separable_conv2d_depthwise\":\n",
    "        continue\n",
    "    print(\"-------\")\n",
    "    #print(trace_hls4ml[key].flatten().shape)\n",
    "    #print(trace_qkeras[key.replace(\"_pointwise\", \"\")].flatten().shape)\n",
    "    print(\"MSE {} {}\".format(\n",
    "        key.replace(\"_pointwise\", \"\"),\n",
    "        mse(\n",
    "            trace_hls4ml[key].flatten(), \n",
    "            trace_qkeras[key.replace(\"_pointwise\", \"\")].flatten())))"
   ]
  },
  {
   "cell_type": "markdown",
   "id": "e91eee55-21e0-45fc-b6f9-f704bb52943f",
   "metadata": {},
   "source": [
    "#### Parity plots"
   ]
  },
  {
   "cell_type": "markdown",
   "id": "55da6dfc-81fb-4910-9116-a29eb2502d3c",
   "metadata": {},
   "source": [
    "We use [parity plots](https://en.wikipedia.org/wiki/Parity_plot) to compare _hls4ml_ and QKeras implementations of each layer.\n",
    "- If the _hls4ml_ implementation is accurate (i.e. matches QKeras implementation), the ouput values should lie close to the diagonal line `y=x`, indicating equivalence.\n",
    "- Deviations from this line highlight inaccuracies or implementation errors."
   ]
  },
  {
   "cell_type": "code",
   "execution_count": null,
   "id": "09f57288-3de9-46e6-85c7-3c12b03d3778",
   "metadata": {},
   "outputs": [],
   "source": [
    "layers = [layer for layer in trace_hls4ml.keys() if \"_alpha\" not in layer and layer != \"q_separable_conv2d_depthwise\"]\n",
    "num_layers = len(layers)\n",
    "\n",
    "num_columns = 2\n",
    "num_rows = math.ceil(num_layers / num_columns)\n",
    "\n",
    "fig, axes = plt.subplots(num_rows, num_columns, figsize=(12, 6 * num_rows))\n",
    "axes = axes.flatten()  # Flatten the axes array for easier indexing\n",
    "\n",
    "# Loop through layers and plot\n",
    "for i, layer in enumerate(layers):\n",
    "    klayer = layer.replace(\"_pointwise\", \"\").replace(\"_linear\", \"\")\n",
    "\n",
    "    min_x = min(np.amin(trace_hls4ml[layer]), np.amin(trace_qkeras[klayer]))\n",
    "    max_x = max(np.amax(trace_hls4ml[layer]), np.amax(trace_qkeras[klayer]))\n",
    "\n",
    "    x = trace_hls4ml[layer].flatten()\n",
    "    y = trace_qkeras[klayer].flatten()\n",
    "\n",
    "    golden_min_x = np.amin(trace_qkeras[klayer])\n",
    "    golden_max_x = np.amax(trace_qkeras[klayer])\n",
    "    range_size = abs(golden_min_x) + abs(golden_max_x)\n",
    "    integer_bits = math.ceil(math.log2(range_size))\n",
    "    min_abs_value = np.min(np.abs(trace_qkeras[klayer][trace_qkeras[klayer] != 0]))\n",
    "    if min_abs_value > 0:\n",
    "        decimal_bits = abs(math.floor(math.log2(min_abs_value)))\n",
    "    else:\n",
    "        decimal_bits = 0  # If no non-zero value exists\n",
    "    mse_value = np.mean((x - y) ** 2)\n",
    "\n",
    "    ax = axes[i]\n",
    "    ax.plot([min_x, max_x], [min_x, max_x], color=\"gray\", linestyle=\"--\", label=\"Diagonal\")\n",
    "    scatter = ax.scatter(x, y, s=0.2, color=\"red\", label=\"Data Points\")\n",
    "    \n",
    "    stats_text = (\n",
    "        f\"Range: [{golden_min_x:.2f}, {golden_max_x:.2f}]\\n\"\n",
    "        f\"Range Size: {range_size:.2f}\\n\"\n",
    "        f\"Bits (I): {integer_bits}\\n\"\n",
    "        f\"Bits (D): {decimal_bits}\\n\"\n",
    "        f\"MSE: {mse_value:.2e}\"\n",
    "    )\n",
    "    ax.text(\n",
    "        0.05, 0.95, stats_text,\n",
    "        transform=ax.transAxes,\n",
    "        fontsize=10,\n",
    "        verticalalignment='top',\n",
    "        bbox=dict(boxstyle=\"round,pad=0.3\", edgecolor=\"black\", facecolor=\"white\")\n",
    "    )\n",
    "\n",
    "    ax.set_xlabel(f\"hls4ml {layer}\")\n",
    "    ax.set_ylabel(f\"QKeras {klayer}\")\n",
    "    ax.set_title(f\"Comparison QKeras vs. hls4ml ({klayer})\")\n",
    "    ax.grid(True)\n",
    "\n",
    "# Remove empty subplots\n",
    "for j in range(i + 1, len(axes)):\n",
    "    fig.delaxes(axes[j])\n",
    "\n",
    "# Adjust layout to prevent overlap\n",
    "plt.tight_layout()\n",
    "\n",
    "plt.savefig(f\"{model_name}_comparison_qkeras_hls4ml.jpeg\")\n",
    "plt.show()\n"
   ]
  },
  {
   "cell_type": "markdown",
   "id": "19f419d4-fa82-46da-80f5-2e8ab882618c",
   "metadata": {},
   "source": [
    "## Model synthesis"
   ]
  },
  {
   "cell_type": "code",
   "execution_count": null,
   "id": "8129ca06-8fe9-4e6b-bb7f-7f0fda9819d0",
   "metadata": {},
   "outputs": [],
   "source": [
    "# If a model is sliced, we don't run HLS, but here we can force HLS anyway\n",
    "force_synthesis_sliced_model = True"
   ]
  },
  {
   "cell_type": "code",
   "execution_count": null,
   "id": "f4b8272b-4701-42af-8499-eab8fcdf6a74",
   "metadata": {
    "scrolled": true
   },
   "outputs": [],
   "source": [
    "%%time\n",
    "\n",
    "# TODO: Check the parameters for the build function (Catapult)\n",
    "\n",
    "#report = hls_model.build(csim=True, synth=False, cosim=False, validation=False, export=False, vsynth=False, reset=False)\n",
    "if sliced_model_enable and not force_synthesis_sliced_model:\n",
    "    print(\"*** Model slicing is enabled, thus disable synthesis ***\")\n",
    "else:\n",
    "    report = hls_model_hls4ml.build(csim=True, synth=False, cosim=False, validation=False, BuildBUP=build_bup)"
   ]
  },
  {
   "cell_type": "markdown",
   "id": "21cf7400-0d17-45e7-b8fe-09e34cbcbcb6",
   "metadata": {},
   "source": [
    "### Results"
   ]
  },
  {
   "cell_type": "code",
   "execution_count": null,
   "id": "da3cd4c8-bf96-442f-8349-03b8cc979213",
   "metadata": {
    "scrolled": true
   },
   "outputs": [],
   "source": [
    "if sliced_model_enable and not force_synthesis_sliced_model:\n",
    "    print(\"*** Model slicing is enabled, thus disable synthesis ***\")\n",
    "else:\n",
    "    catapult_full_report = hls4ml.report.parse_catapult_report(hls4ml_output_dir, project_name)"
   ]
  },
  {
   "cell_type": "code",
   "execution_count": null,
   "id": "6a99a874-8695-4d16-932b-5b824846a3cf",
   "metadata": {},
   "outputs": [],
   "source": [
    "if sliced_model_enable and not force_synthesis_sliced_model:\n",
    "    print(\"*** Model slicing is enabled, thus disable synthesis ***\")\n",
    "else:\n",
    "    catapult_qor = hls4ml.report.qofr(catapult_full_report)"
   ]
  },
  {
   "cell_type": "code",
   "execution_count": null,
   "id": "1c136074-1707-4de0-88cc-5df851fdb471",
   "metadata": {},
   "outputs": [],
   "source": [
    "import os\n",
    "print(f'Catapult hls4ml project: {os.getcwd()}/{hls4ml_output_dir}')"
   ]
  },
  {
   "cell_type": "markdown",
   "id": "c5078537-7877-4113-8a81-d97a787bbd72",
   "metadata": {},
   "source": [
    "## Save data for off-line debug"
   ]
  },
  {
   "cell_type": "raw",
   "id": "fd5ded53-e4ca-4d5e-92d8-a90702e91c6b",
   "metadata": {},
   "source": [
    "def format_ndarray_as_cpp(array):\n",
    "    if isinstance(array, np.ndarray):\n",
    "        return \"{\" + \", \".join(format_ndarray_as_cpp(sub) for sub in array) + \"}\"\n",
    "    else:\n",
    "        return f\"{array:.9g}\"\n",
    "\n",
    "def save_cpp_array_to_file(array, filename):\n",
    "    print(array.shape)\n",
    "    cpp_array_str = format_ndarray_as_cpp(array)\n",
    "    with open(filename, \"w\") as file:\n",
    "        file.write(cpp_array_str)"
   ]
  },
  {
   "cell_type": "markdown",
   "id": "85b450f6-b225-4d23-ab32-4cc40a9457fa",
   "metadata": {},
   "source": [
    "### Inputs and outputs"
   ]
  },
  {
   "cell_type": "raw",
   "id": "84e79bff-e2a1-4e00-bde9-7d616edc5aff",
   "metadata": {},
   "source": [
    "print(f'Input shape:  {X.shape}')\n",
    "print(f'Output shape: {y_qkeras.shape}')\n",
    "\n",
    "# print('--------------------------------------')\n",
    "# print(f'Input data:\\n{format_ndarray_as_cpp(X[0])}')\n",
    "# print('--------------------------------------')\n",
    "# print(f'Output data:\\n{format_ndarray_as_cpp(y_qkeras[0])}')\n",
    "# print('--------------------------------------')\n",
    "\n",
    "save_cpp_array_to_file(X[:256], 'data_in.txt');\n",
    "save_cpp_array_to_file(y_qkeras[:256], 'data_out.txt');"
   ]
  },
  {
   "cell_type": "markdown",
   "id": "b5e7df35-9a0e-4b7c-9f8a-482cdc3a6143",
   "metadata": {},
   "source": [
    "### Weights"
   ]
  },
  {
   "cell_type": "markdown",
   "id": "46b19fd5-9edc-4c21-8f02-93941b3dbd67",
   "metadata": {},
   "source": [
    "<b style=\"background-color: yellow; color: red\">ATTENTION: weights in .txt files from hls4ml are _different_.</b>"
   ]
  },
  {
   "cell_type": "raw",
   "id": "68a3585a-361d-4d50-8ad5-fa88f4b28a84",
   "metadata": {},
   "source": [
    "# Get first useful layer\n",
    "# Separable conv2d\n",
    "layer = model.layers[1]\n",
    "\n",
    "print(layer.bias)\n",
    "\n",
    "# Get weights\n",
    "depthwise_weights, pointwise_weights, pointwise_biases = layer.get_weights()\n",
    "print(f'Depthwise weights shape: {np.array(depthwise_weights, dtype=np.float32).shape}')\n",
    "print(f'Pointwise weights shape: {np.array(pointwise_weights, dtype=np.float32).shape}')\n",
    "print(f'Pointwise biases shape: {np.array(pointwise_biases, dtype=np.float32).shape}')\n",
    "\n",
    "# Print weights\n",
    "print(f'Depthwise weights {format_ndarray_as_cpp(depthwise_weights)}')\n",
    "print(f'Pointwise weights {format_ndarray_as_cpp(pointwise_weights)}')\n",
    "print(f'Pointwise biases  {format_ndarray_as_cpp(pointwise_biases)}')"
   ]
  },
  {
   "cell_type": "markdown",
   "id": "c58df2a0-f78a-4691-b8c6-7ea864db4e98",
   "metadata": {},
   "source": [
    "## Force pipelining"
   ]
  },
  {
   "cell_type": "markdown",
   "id": "cbdd7272-57cc-4932-954b-040e3785747a",
   "metadata": {},
   "source": [
    "To apply pipelining for the top-level main function of each block:\n",
    "```\n",
    "go assembly\n",
    "set blocks [solution get /HIERCONFIG/USER_HBS/*/RESOLVED_NAME -match glob -rec 1 -ret v -state analyze]\n",
    "set top [lindex $blocks 0]\n",
    "foreach block [lreverse [lrange $blocks 1 end]] {\n",
    "  if { [string match {nnet::*} $block] == 0 } { continue }\n",
    "  puts $block\n",
    "  directive set /$top/$block/core/main -PIPELINE_INIT_INTERVAL 1\n",
    "}\n",
    "\n",
    "go extract\n",
    "```"
   ]
  },
  {
   "cell_type": "markdown",
   "id": "b06cb272-a1fa-491a-af1a-8971befe0b3a",
   "metadata": {},
   "source": [
    "To generate hls4ml / Catapult AI NN report:\n",
    "```\n",
    "flow run /HLS4ML/collect_reports\n",
    "```"
   ]
  },
  {
   "cell_type": "raw",
   "id": "ecc5a2be-cba0-4321-8f23-c5f617cbdfb9",
   "metadata": {},
   "source": [
    "if not build_bup:\n",
    "    !cd \"./$hls4ml_output_dir\" && catapult -shell -file ../force_pipelining.tcl -logfile catapult_pipeline.log $project_name\\_prj.ccs > /dev/null\n",
    "else:\n",
    "    print(\"Disabled\")"
   ]
  },
  {
   "cell_type": "raw",
   "id": "f1be5c67-db2f-49d6-aac6-3477d8c1ed64",
   "metadata": {},
   "source": [
    "if not build_bup:\n",
    "    catapult_full_report = hls4ml.report.parse_catapult_report(hls4ml_output_dir, project_name)\n",
    "    hls4ml.report.qofr(catapult_full_report)\n",
    "else:\n",
    "    print(\"Disabled\")"
   ]
  },
  {
   "cell_type": "markdown",
   "id": "0125cc7b-c67a-4a59-b88a-c3972953c844",
   "metadata": {},
   "source": [
    "Catapult 2024.2_1, 2024.2_2\n",
    "\n",
    "```\n",
    "Layer\n",
    "=====\n",
    "----------------------------------------------------------------------------------------------------------------  ------  --  ------  -------  -------  --------  ------  -------\n",
    "Layer                                                                                                             Unroll  II  Area    Latency  Thruput  TotalPwr  DynPwr  LeakPwr\n",
    "----------------------------------------------------------------------------------------------------------------  ------  --  ------  -------  -------  --------  ------  -------\n",
    "nnet::depthwise_conv_2d_cl<input_t,q_separable_conv2d_depthwise_result_t,config19>                                            6188    273      273      NaN       NaN     NaN    \n",
    "nnet::pointwise_conv_2d_cl<q_separable_conv2d_depthwise_result_t,q_separable_conv2d_pointwise_result_t,config21>              1637    209      209      NaN       NaN     NaN    \n",
    "nnet::hard_tanh<q_separable_conv2d_pointwise_result_t,layer4_t,hard_tanh_config4>                                             672     209      209      NaN       NaN     NaN    \n",
    "nnet::pointwise_conv_2d_cl<layer4_t,q_conv2d_result_t,config22>                                                               1422    209      209      NaN       NaN     NaN    \n",
    "nnet::hard_tanh<q_conv2d_result_t,layer7_t,hard_tanh_config7>                                                                 570     209      209      NaN       NaN     NaN    \n",
    "nnet::pooling2d_cl<layer7_t,layer8_t,config8>                                                                                 3447    209      209      NaN       NaN     NaN    \n",
    "nnet::linear<layer8_t,layer9_t,linear_config9>                                                                                339     18       18       NaN       NaN     NaN    \n",
    "nnet::dense<layer9_t,q_dense_result_t,config11>                                                                               212730  18       18       NaN       NaN     NaN    \n",
    "nnet::hard_tanh<q_dense_result_t,layer13_t,hard_tanh_config13>                                                                2342    1        1        NaN       NaN     NaN    \n",
    "nnet::dense<layer13_t,q_dense_1_result_t,config14>                                                                            38041   1        1        NaN       NaN     NaN    \n",
    "nnet::hard_tanh<q_dense_1_result_t,layer16_t,hard_tanh_config16>                                                              2342    1        1        NaN       NaN     NaN    \n",
    "nnet::dense<layer16_t,result_t,config17>                                                                                      33335   1        1        NaN       NaN     NaN    \n",
    "\n",
    "FIFO Interconnect\n",
    "=================\n",
    "------------  --------------------  -----------------------  -----  -----  ----\n",
    "C++ Variable  Instance              Component                Width  Depth  Area\n",
    "------------  --------------------  -----------------------  -----  -----  ----\n",
    "layer11_out   layer11_out_cns_pipe  hls4ml_lib.mgc_pipe_mem  256    1      1122\n",
    "layer13_out   layer13_out_cns_pipe  hls4ml_lib.mgc_pipe_mem  128    1      562 \n",
    "layer14_out   layer14_out_cns_pipe  hls4ml_lib.mgc_pipe_mem  256    1      1122\n",
    "layer16_out   layer16_out_cns_pipe  hls4ml_lib.mgc_pipe_mem  128    1      562 \n",
    "layer19_out   layer19_out_cns_pipe  hls4ml_lib.mgc_pipe_mem  32     1      142 \n",
    "layer20_out   layer20_out_cns_pipe  hls4ml_lib.mgc_pipe_mem  80     1      352 \n",
    "layer4_out    layer4_out_cns_pipe   hls4ml_lib.mgc_pipe_mem  20     1      89  \n",
    "layer5_out    layer5_out_cns_pipe   hls4ml_lib.mgc_pipe_mem  60     1      264 \n",
    "layer7_out    layer7_out_cns_pipe   hls4ml_lib.mgc_pipe_mem  20     1      89  \n",
    "layer8_out    layer8_out_cns_pipe   hls4ml_lib.mgc_pipe_mem  60     1      264 \n",
    "layer9_out    layer9_out_cns_pipe   hls4ml_lib.mgc_pipe_mem  40     1      177 \n",
    "\n",
    "Weight/Bias Value ROM Constants\n",
    "===============================\n",
    "-----  --------  -----------\n",
    "Layer  Variable  Size (bits)\n",
    "-----  --------  -----------\n",
    "5      b5        20         \n",
    "5      w5        100        \n",
    "11     b11       128        \n",
    "11     w11       11520      \n",
    "14     w14       256x8      \n",
    "14     b14       128        \n",
    "17     w17       1792       \n",
    "17     b17       112        \n",
    "19     b19       2          \n",
    "19     w19       72         \n",
    "20     b20       20         \n",
    "20     w20       10x4       \n",
    "```"
   ]
  },
  {
   "cell_type": "code",
   "execution_count": null,
   "id": "513c6c30-31f8-49e9-8a1d-b4c538757696",
   "metadata": {},
   "outputs": [],
   "source": []
  }
 ],
 "metadata": {
  "kernelspec": {
   "display_name": "Python 3 (ipykernel)",
   "language": "python",
   "name": "python3"
  },
  "language_info": {
   "codemirror_mode": {
    "name": "ipython",
    "version": 3
   },
   "file_extension": ".py",
   "mimetype": "text/x-python",
   "name": "python",
   "nbconvert_exporter": "python",
   "pygments_lexer": "ipython3",
   "version": "3.10.15"
  },
  "toc": {
   "base_numbering": 1,
   "nav_menu": {},
   "number_sections": true,
   "sideBar": true,
   "skip_h1_title": false,
   "title_cell": "Table of Contents",
   "title_sidebar": "Contents",
   "toc_cell": false,
   "toc_position": {},
   "toc_section_display": true,
   "toc_window_display": false
  }
 },
 "nbformat": 4,
 "nbformat_minor": 5
}
